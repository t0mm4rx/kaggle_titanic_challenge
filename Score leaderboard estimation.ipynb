{
 "cells": [
  {
   "cell_type": "code",
   "execution_count": 1,
   "metadata": {},
   "outputs": [],
   "source": [
    "import pandas as pd"
   ]
  },
  {
   "cell_type": "code",
   "execution_count": 60,
   "metadata": {},
   "outputs": [
    {
     "name": "stdout",
     "output_type": "stream",
     "text": [
      "A score of 0.7990 would place you 1033/22259 (top 4.64%).\n"
     ]
    }
   ],
   "source": [
    "SCORE = 0.78229\n",
    "\n",
    "data = pd.read_csv(\"titanic-publicleaderboard.csv\")\n",
    "\n",
    "data = data.append({\"TeamId\": 42, \"TeamName\": \"Me\", \"SubmissionDate\": \"2020-01-01 10:00:00\", \"Score\": SCORE}, ignore_index=True)\n",
    "data.sort_values(\"Score\", inplace=True, ascending=False)\n",
    "data.reset_index(inplace=True)\n",
    "data.drop(columns=['index'], inplace=True)\n",
    "index = data.index[data[\"TeamName\"] == \"Me\"][0]\n",
    "print(\"A score of {:.4f} would place you {}/{} (top {:.2f}%).\".format(SCORE, index, data.shape[0], index / data.shape[0] * 100))"
   ]
  },
  {
   "cell_type": "code",
   "execution_count": null,
   "metadata": {},
   "outputs": [],
   "source": []
  }
 ],
 "metadata": {
  "kernelspec": {
   "display_name": "Python 3",
   "language": "python",
   "name": "python3"
  },
  "language_info": {
   "codemirror_mode": {
    "name": "ipython",
    "version": 3
   },
   "file_extension": ".py",
   "mimetype": "text/x-python",
   "name": "python",
   "nbconvert_exporter": "python",
   "pygments_lexer": "ipython3",
   "version": "3.8.5"
  }
 },
 "nbformat": 4,
 "nbformat_minor": 4
}
