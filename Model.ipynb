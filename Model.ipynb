{
 "cells": [
  {
   "cell_type": "code",
   "execution_count": 1,
   "metadata": {},
   "outputs": [],
   "source": [
    "import pandas as pd\n",
    "import numpy as np\n",
    "import tensorflow as tf\n",
    "from sklearn.linear_model import LogisticRegression\n",
    "from sklearn.ensemble import RandomForestClassifier\n",
    "from sklearn.svm import SVR\n",
    "from sklearn import metrics\n",
    "import matplotlib.pyplot as plt\n",
    "from jupyterthemes import jtplot\n",
    "jtplot.style()"
   ]
  },
  {
   "cell_type": "code",
   "execution_count": 2,
   "metadata": {},
   "outputs": [],
   "source": [
    "def preprocess(data, scales=None):\n",
    "    # Filling missing values with median\n",
    "    data[\"Age\"] = data[\"Age\"].fillna(data[\"Age\"].median())\n",
    "    data[\"Fare\"] = data[\"Fare\"].fillna(data[\"Fare\"].median())\n",
    "    # Filling missing embarked with C\n",
    "    data[\"Embarked\"] = data[\"Embarked\"].fillna(\"C\")\n",
    "    # Creating family feature\n",
    "    data[\"Family\"] = data[\"SibSp\"] + data[\"Parch\"]\n",
    "    # Alone feature\n",
    "    data[\"Alone\"] = (data[\"Family\"] == 0).astype(int)\n",
    "    # Creating title feature\n",
    "    data[\"Title\"] = data[\"Name\"].str.extract(r'([A-Za-z]*[.])')\n",
    "    data[\"Title\"].replace(to_replace=[\"Dona.\", \"Dr.\", \"Rev.\", \"Col.\", \"Mlle.\", \"Major.\", \"Countess.\", \"Lady.\", \"Don.\", \"Mme.\", \"Sir.\", \"Jonkheer.\", \"Capt.\", \"Ms.\"], value=\"Other.\", inplace=True)\n",
    "\n",
    "    # One hot encode categorical data (class, embarked, title and sex)\n",
    "    data[\"Sex\"] = pd.get_dummies(data[\"Sex\"])\n",
    "    data = pd.concat([data, pd.get_dummies(data[\"Pclass\"], prefix='Class')], axis=1)\n",
    "    data = pd.concat([data, pd.get_dummies(data[\"Embarked\"], prefix='Embarked')], axis=1)\n",
    "    data = pd.concat([data, pd.get_dummies(data[\"Title\"], prefix='Title')], axis=1)\n",
    "    \n",
    "    # Dropping useless columns\n",
    "    data.drop(columns=[\n",
    "        'Name',\n",
    "        'SibSp',\n",
    "        'Parch',\n",
    "        'Pclass',\n",
    "        'Ticket',\n",
    "        'Embarked',\n",
    "        'Title',\n",
    "        'Cabin'], inplace=True)\n",
    "\n",
    "    # Normalizing data\n",
    "    if (scales == None):\n",
    "        scales = {}\n",
    "    cols = list(data.columns)\n",
    "    if (\"Survived\" in cols):\n",
    "        cols.remove(\"Survived\")\n",
    "    cols.remove(\"PassengerId\")\n",
    "    for column in cols:\n",
    "        if (not column in scales):\n",
    "            scales[column] = {'mean': data[column].mean(), 'std': data[column].std()}\n",
    "        data[column] -= scales[column]['mean']\n",
    "        data[column] /= scales[column]['std']\n",
    "\n",
    "    return scales, data"
   ]
  },
  {
   "cell_type": "code",
   "execution_count": 3,
   "metadata": {
    "scrolled": true
   },
   "outputs": [
    {
     "name": "stdout",
     "output_type": "stream",
     "text": [
      "   PassengerId  Survived       Sex       Age      Fare    Family     Alone  \\\n",
      "0            1         0 -0.737281 -0.565419 -0.502163  0.059127 -1.230954   \n",
      "1            2         1  1.354813  0.663488  0.786404  0.059127 -1.230954   \n",
      "2            3         1  1.354813 -0.258192 -0.488580 -0.560660  0.811467   \n",
      "3            4         1  1.354813  0.433068  0.420494  0.059127 -1.230954   \n",
      "4            5         0 -0.737281  0.433068 -0.486064 -0.560660  0.811467   \n",
      "\n",
      "    Class_1   Class_2   Class_3  Embarked_C  Embarked_Q  Embarked_S  \\\n",
      "0 -0.565368 -0.509865  0.902081   -0.485303    -0.30739    0.618959   \n",
      "1  1.766775 -0.509865 -1.107304    2.058256    -0.30739   -1.613803   \n",
      "2 -0.565368 -0.509865  0.902081   -0.485303    -0.30739    0.618959   \n",
      "3  1.766775 -0.509865 -1.107304   -0.485303    -0.30739    0.618959   \n",
      "4 -0.565368 -0.509865  0.902081   -0.485303    -0.30739    0.618959   \n",
      "\n",
      "   Title_Master.  Title_Miss.  Title_Mr.  Title_Mrs.  Title_Other.  \n",
      "0      -0.216681    -0.506371   0.850054   -0.403735     -0.176677  \n",
      "1      -0.216681    -0.506371  -1.175075    2.474090     -0.176677  \n",
      "2      -0.216681     1.972621  -1.175075   -0.403735     -0.176677  \n",
      "3      -0.216681    -0.506371  -1.175075    2.474090     -0.176677  \n",
      "4      -0.216681    -0.506371   0.850054   -0.403735     -0.176677  \n",
      "(891,) (891, 16)\n"
     ]
    }
   ],
   "source": [
    "train_data = pd.read_csv(\"train.csv\")\n",
    "\n",
    "scales, train_data = preprocess(train_data)\n",
    "print(train_data.head())\n",
    "# Get features and targets\n",
    "train_data = train_data.dropna()\n",
    "targets = train_data[\"Survived\"].values\n",
    "train_data.drop(columns=[\"Survived\", \"PassengerId\"], inplace=True)\n",
    "features = train_data.values\n",
    "print(targets.shape, features.shape)"
   ]
  },
  {
   "cell_type": "code",
   "execution_count": 4,
   "metadata": {
    "scrolled": true
   },
   "outputs": [
    {
     "name": "stdout",
     "output_type": "stream",
     "text": [
      "[[-0.73728105 -0.5654189  -0.50216314 ...  0.85005432 -0.40373535\n",
      "  -0.17667747]\n",
      " [ 1.35481262  0.66348839  0.78640362 ... -1.17507509  2.4740902\n",
      "  -0.17667747]\n",
      " [ 1.35481262 -0.25819208 -0.48857985 ... -1.17507509 -0.40373535\n",
      "  -0.17667747]\n",
      " ...\n",
      " [ 1.35481262 -0.10457867 -0.1761643  ... -1.17507509 -0.40373535\n",
      "  -0.17667747]\n",
      " [-0.73728105 -0.25819208 -0.04435613 ...  0.85005432 -0.40373535\n",
      "  -0.17667747]\n",
      " [-0.73728105  0.20264816 -0.49210144 ...  0.85005432 -0.40373535\n",
      "  -0.17667747]]\n",
      "[0 1 1 1 0 0 0 0 1 1 1 1 0 0 0 1 0 1 0 1 0 1 1 1 0 1 0 0 1 0 0 1 1 0 0 0 1\n",
      " 0 0 1 0 0 0 1 1 0 0 1 0 0 0 0 1 1 0 1 1 0 1 0 0 1 0 0 0 1 1 0 1 0 0 0 0 0\n",
      " 1 0 0 0 1 1 0 1 1 0 1 1 0 0 1 0 0 0 0 0 0 0 0 1 1 0 0 0 0 0 0 0 1 1 0 1 0\n",
      " 0 0 0 0 0 0 0 0 0 0 0 0 1 0 1 0 1 1 0 0 0 0 1 0 0 1 0 0 0 0 1 1 0 0 0 1 0\n",
      " 0 0 0 1 0 0 0 0 1 0 0 0 0 1 0 0 0 1 1 0 0 0 0 0 1 0 0 0 0 0 0 0 0 0 0 1 1\n",
      " 0 1 1 0 0 1 0 1 1 1 1 0 0 1 0 0 0 0 0 1 0 0 1 1 1 0 1 0 0 0 1 1 0 1 0 1 0\n",
      " 0 0 1 0 1 0 0 0 1 0 0 1 0 0 0 1 0 0 0 1 0 0 0 0 0 1 1 0 0 0 0 0 0 1 1 1 1\n",
      " 1 0 1 0 0 0 0 0 1 1 1 0 1 1 0 1 1 0 0 0 1 0 0 0 1 0 0 1 0 1 1 1 1 0 0 0 0\n",
      " 0 0 1 1 1 1 0 1 0 1 1 1 0 1 1 1 0 0 0 1 1 0 1 1 0 0 1 1 0 1 0 1 1 1 1 0 0\n",
      " 0 1 0 0 1 1 0 1 1 0 0 0 1 1 1 1 0 0 0 0 0 0 0 1 0 1 1 0 0 0 0 0 0 1 1 1 1\n",
      " 1 0 0 0 0 1 1 0 0 0 1 1 0 1 0 0 0 1 0 1 1 1 0 1 1 0 0 0 0 1 1 0 0 0 0 0 0\n",
      " 1 0 0 0 0 1 0 1 0 1 1 0 0 0 0 0 0 0 0 1 1 0 1 1 1 1 0 0 1 0 1 0 0 1 0 0 1\n",
      " 1 1 1 1 1 1 0 0 0 1 0 1 0 1 1 0 1 0 0 0 0 0 0 0 0 1 0 0 1 1 0 0 0 0 0 1 0\n",
      " 0 0 1 1 0 1 0 0 1 0 0 0 0 0 0 1 0 0 0 0 0 0 0 1 0 1 1 0 1 1 0 1 1 0 0 1 0\n",
      " 1 0 1 0 0 1 0 0 1 0 0 0 1 0 0 1 0 1 0 1 0 1 1 0 0 1 0 0 1 1 0 1 1 0 0 1 1\n",
      " 0 1 0 1 1 0 0 0 0 0 0 0 0 0 1 1 1 1 1 0 0 1 1 0 1 1 1 0 0 0 1 0 1 0 0 0 1\n",
      " 0 0 0 0 1 0 0 1 1 0 0 0 1 0 0 1 1 1 0 0 1 0 0 1 0 0 1 0 0 1 1 0 0 0 0 1 0\n",
      " 0 1 0 1 0 0 1 0 0 0 0 0 1 0 1 1 1 0 1 0 1 0 1 0 1 0 0 0 0 0 0 1 0 0 0 1 0\n",
      " 0 0 0 1 1 0 0 1 0 0 0 1 0 1 0 1 0 0 0 0 0 0 0 1 1 1 1 0 0 0 0 1 0 0 1 1 0\n",
      " 0 0 0 1 1 1 1 1 0 1 0 0 0 1 1 0 0 1 0 0 0 1 0 1 1 0 0 1 0 0 0 0 0 0 1 0 0\n",
      " 1 0 1 0 1 0 0 1 0 0 1 1 0 0 1 1 0 0 0 1 0 0 1 1 0 1 0 0 0 0 0 0 0 0 1 0 0\n",
      " 1 0 1 1 1 0 0 0 0 1 0 1 0 0 0 0 0 0 0 1 1 0 0 0 1 1 1 1 0 0 0 0 1 0 0 0 0\n",
      " 0 0 0 0 0 0 1 1 0 1 0 0 0 1 1 1 1 1 0 0 0 1 0 0 1 1 0 0 1 0 0 0 0 0 0 1 0\n",
      " 0 0 1 0 1 1 1 1 0 0 0 1 0 0 1 1 0 0 1 0 1 0 0 1 1 0 0 0 1 1 0 0 0 0 0 0 1\n",
      " 0 1 0]\n"
     ]
    }
   ],
   "source": [
    "print(features)\n",
    "print(targets)"
   ]
  },
  {
   "cell_type": "code",
   "execution_count": 5,
   "metadata": {
    "scrolled": true
   },
   "outputs": [],
   "source": [
    "test_prop = int(features.shape[0] / 5)\n",
    "x_train = features[:test_prop]\n",
    "y_train = targets[:test_prop]\n",
    "x_test = features[-test_prop:]\n",
    "y_test = targets[-test_prop:]"
   ]
  },
  {
   "cell_type": "markdown",
   "metadata": {},
   "source": [
    "## Keras logistic regression"
   ]
  },
  {
   "cell_type": "code",
   "execution_count": 6,
   "metadata": {
    "scrolled": false
   },
   "outputs": [
    {
     "name": "stdout",
     "output_type": "stream",
     "text": [
      "Model: \"sequential\"\n",
      "_________________________________________________________________\n",
      "Layer (type)                 Output Shape              Param #   \n",
      "=================================================================\n",
      "dense (Dense)                (None, 1)                 17        \n",
      "=================================================================\n",
      "Total params: 17\n",
      "Trainable params: 17\n",
      "Non-trainable params: 0\n",
      "_________________________________________________________________\n",
      "Epoch 1/20\n",
      "446/446 [==============================] - 0s 1ms/step - loss: 0.6583 - binary_accuracy: 0.6184 - val_loss: 0.5063 - val_binary_accuracy: 0.8146\n",
      "Epoch 2/20\n",
      "446/446 [==============================] - 0s 755us/step - loss: 0.5057 - binary_accuracy: 0.7879 - val_loss: 0.4164 - val_binary_accuracy: 0.8820\n",
      "Epoch 3/20\n",
      "446/446 [==============================] - 0s 726us/step - loss: 0.4595 - binary_accuracy: 0.8182 - val_loss: 0.3842 - val_binary_accuracy: 0.8708\n",
      "Epoch 4/20\n",
      "446/446 [==============================] - 0s 706us/step - loss: 0.4406 - binary_accuracy: 0.8227 - val_loss: 0.3684 - val_binary_accuracy: 0.8708\n",
      "Epoch 5/20\n",
      "446/446 [==============================] - 0s 644us/step - loss: 0.4299 - binary_accuracy: 0.8272 - val_loss: 0.3576 - val_binary_accuracy: 0.8764\n",
      "Epoch 6/20\n",
      "446/446 [==============================] - 0s 779us/step - loss: 0.4234 - binary_accuracy: 0.8294 - val_loss: 0.3506 - val_binary_accuracy: 0.8820\n",
      "Epoch 7/20\n",
      "446/446 [==============================] - 0s 669us/step - loss: 0.4196 - binary_accuracy: 0.8294 - val_loss: 0.3458 - val_binary_accuracy: 0.8820\n",
      "Epoch 8/20\n",
      "446/446 [==============================] - 0s 681us/step - loss: 0.4167 - binary_accuracy: 0.8339 - val_loss: 0.3420 - val_binary_accuracy: 0.8876\n",
      "Epoch 9/20\n",
      "446/446 [==============================] - 0s 660us/step - loss: 0.4148 - binary_accuracy: 0.8339 - val_loss: 0.3394 - val_binary_accuracy: 0.8876\n",
      "Epoch 10/20\n",
      "446/446 [==============================] - 0s 664us/step - loss: 0.4134 - binary_accuracy: 0.8328 - val_loss: 0.3362 - val_binary_accuracy: 0.8876\n",
      "Epoch 11/20\n",
      "446/446 [==============================] - 0s 687us/step - loss: 0.4125 - binary_accuracy: 0.8339 - val_loss: 0.3346 - val_binary_accuracy: 0.8876\n",
      "Epoch 12/20\n",
      "446/446 [==============================] - 0s 707us/step - loss: 0.4121 - binary_accuracy: 0.8305 - val_loss: 0.3331 - val_binary_accuracy: 0.8876\n",
      "Epoch 13/20\n",
      "446/446 [==============================] - 0s 794us/step - loss: 0.4118 - binary_accuracy: 0.8316 - val_loss: 0.3322 - val_binary_accuracy: 0.8876\n",
      "Epoch 14/20\n",
      "446/446 [==============================] - 0s 685us/step - loss: 0.4113 - binary_accuracy: 0.8328 - val_loss: 0.3311 - val_binary_accuracy: 0.8876\n",
      "Epoch 15/20\n",
      "446/446 [==============================] - 0s 693us/step - loss: 0.4108 - binary_accuracy: 0.8294 - val_loss: 0.3300 - val_binary_accuracy: 0.8876\n",
      "Epoch 16/20\n",
      "446/446 [==============================] - 0s 729us/step - loss: 0.4107 - binary_accuracy: 0.8316 - val_loss: 0.3289 - val_binary_accuracy: 0.8876\n",
      "Epoch 17/20\n",
      "446/446 [==============================] - 0s 656us/step - loss: 0.4107 - binary_accuracy: 0.8316 - val_loss: 0.3284 - val_binary_accuracy: 0.8820\n",
      "Epoch 18/20\n",
      "446/446 [==============================] - 0s 657us/step - loss: 0.4106 - binary_accuracy: 0.8294 - val_loss: 0.3274 - val_binary_accuracy: 0.8876\n",
      "Epoch 19/20\n",
      "446/446 [==============================] - 0s 712us/step - loss: 0.4103 - binary_accuracy: 0.8283 - val_loss: 0.3273 - val_binary_accuracy: 0.8876\n",
      "Epoch 20/20\n",
      "446/446 [==============================] - 0s 721us/step - loss: 0.4103 - binary_accuracy: 0.8283 - val_loss: 0.3267 - val_binary_accuracy: 0.8876\n"
     ]
    },
    {
     "data": {
      "image/png": "[encoded data removed]",
      "text/plain": [
       "<Figure size 460.8x403.2 with 1 Axes>"
      ]
     },
     "metadata": {},
     "output_type": "display_data"
    }
   ],
   "source": [
    "# Create a model\n",
    "model = tf.keras.models.Sequential([\n",
    "    tf.keras.layers.Dense(1, activation='sigmoid', input_shape=(features.shape[1],)),\n",
    "#     tf.keras.layers.Dense(1, activation='sigmoid'),\n",
    "])\n",
    "model.compile(optimizer='adam', loss='binary_crossentropy', metrics=['binary_accuracy'])\n",
    "model.summary()\n",
    "history = model.fit(x=features, y=targets, batch_size=2, epochs=20, shuffle=True, validation_data=(x_test, y_test))\n",
    "plt.plot(history.history['binary_accuracy'])\n",
    "plt.plot(history.history['val_binary_accuracy'])\n",
    "plt.show()"
   ]
  },
  {
   "cell_type": "markdown",
   "metadata": {},
   "source": [
    "## Sklearn Random Forest Classifier"
   ]
  },
  {
   "cell_type": "code",
   "execution_count": 7,
   "metadata": {
    "scrolled": false
   },
   "outputs": [
    {
     "name": "stdout",
     "output_type": "stream",
     "text": [
      "Accuracy: 81.46%\n"
     ]
    },
    {
     "data": {
      "text/plain": [
       "<AxesSubplot:ylabel='feature'>"
      ]
     },
     "execution_count": 7,
     "metadata": {},
     "output_type": "execute_result"
    },
    {
     "data": {
      "image/png": "[encoded data removed]",
      "text/plain": [
       "<Figure size 1800x1800 with 1 Axes>"
      ]
     },
     "metadata": {},
     "output_type": "display_data"
    }
   ],
   "source": [
    "clf = RandomForestClassifier(n_estimators=100)\n",
    "clf = clf.fit(x_train, y_train)\n",
    "y_pred=clf.predict(x_test)\n",
    "print(\"Accuracy: {:.2f}%\".format(metrics.accuracy_score(y_pred, y_test) * 100))\n",
    "features = pd.DataFrame()\n",
    "features['feature'] = train_data.columns\n",
    "features['importance'] = clf.feature_importances_\n",
    "features.sort_values(by=['importance'], ascending=True, inplace=True)\n",
    "features.set_index('feature', inplace=True)\n",
    "\n",
    "features.plot(kind='barh', figsize=(25, 25))"
   ]
  },
  {
   "cell_type": "markdown",
   "metadata": {},
   "source": [
    "## Sklearn logistic regression"
   ]
  },
  {
   "cell_type": "code",
   "execution_count": 8,
   "metadata": {
    "scrolled": false
   },
   "outputs": [
    {
     "name": "stdout",
     "output_type": "stream",
     "text": [
      "Accuracy: 84.83%\n"
     ]
    }
   ],
   "source": [
    "logisticRegr = LogisticRegression()\n",
    "logisticRegr.fit(x_train, y_train)\n",
    "y_pred = logisticRegr.predict(x_test)\n",
    "print(\"Accuracy: {:.2f}%\".format(metrics.accuracy_score(y_pred, y_test) * 100))"
   ]
  },
  {
   "cell_type": "markdown",
   "metadata": {},
   "source": [
    "## Predicting the test set"
   ]
  },
  {
   "cell_type": "code",
   "execution_count": 9,
   "metadata": {},
   "outputs": [],
   "source": [
    "MODEL = logisticRegr\n",
    "\n",
    "test_data = pd.read_csv(\"test.csv\")\n",
    "_, test_data = preprocess(test_data, scales=scales)\n",
    "\n",
    "test_without_id = test_data.drop(columns=[\"PassengerId\"])\n",
    "prediction = MODEL.predict(test_without_id.values) >= 0.5\n",
    "prediction = prediction.astype(int)\n",
    "\n",
    "test_data[\"Survived\"] = prediction\n",
    "cols = list(test_data.columns)\n",
    "cols.remove(\"PassengerId\")\n",
    "cols.remove(\"Survived\")\n",
    "test_data.drop(columns=cols, inplace=True)"
   ]
  },
  {
   "cell_type": "code",
   "execution_count": 10,
   "metadata": {},
   "outputs": [],
   "source": [
    "test_data.to_csv('result.csv', index=False)"
   ]
  },
  {
   "cell_type": "code",
   "execution_count": null,
   "metadata": {},
   "outputs": [],
   "source": []
  }
 ],
 "metadata": {
  "kernelspec": {
   "display_name": "Python 3",
   "language": "python",
   "name": "python3"
  },
  "language_info": {
   "codemirror_mode": {
    "name": "ipython",
    "version": 3
   },
   "file_extension": ".py",
   "mimetype": "text/x-python",
   "name": "python",
   "nbconvert_exporter": "python",
   "pygments_lexer": "ipython3",
   "version": "3.8.5"
  }
 },
 "nbformat": 4,
 "nbformat_minor": 4
}
