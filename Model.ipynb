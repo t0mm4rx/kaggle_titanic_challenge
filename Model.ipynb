{
 "cells": [
  {
   "cell_type": "code",
   "execution_count": 1,
   "metadata": {},
   "outputs": [],
   "source": [
    "import re\n",
    "import pandas as pd\n",
    "import numpy as np\n",
    "import tensorflow as tf\n",
    "from sklearn.linear_model import LogisticRegression\n",
    "from sklearn.ensemble import RandomForestClassifier\n",
    "from sklearn.neighbors import KNeighborsClassifier\n",
    "from sklearn.svm import SVR\n",
    "from sklearn import metrics\n",
    "from sklearn.model_selection import GridSearchCV\n",
    "from xgboost import XGBClassifier\n",
    "import catboost\n",
    "import matplotlib.pyplot as plt\n",
    "from jupyterthemes import jtplot\n",
    "jtplot.style()"
   ]
  },
  {
   "cell_type": "markdown",
   "metadata": {},
   "source": [
    "## Feature enginering"
   ]
  },
  {
   "cell_type": "code",
   "execution_count": 2,
   "metadata": {},
   "outputs": [],
   "source": [
    "def preprocess(data, scales=None):\n",
    "    # Create ticket feature\n",
    "    data[\"CabinAfter\"] = data[\"Cabin\"].str.extract(r'([A-Za-z])')\n",
    "    data[\"CabinAfter\"].replace(to_replace=[\"T\"], value=\"U\", inplace=True)\n",
    "    # Filling missing values with median\n",
    "    data[\"Age\"] = data[\"Age\"].fillna(data[\"Age\"].median())\n",
    "    data[\"Fare\"] = data[\"Fare\"].fillna(data[\"Fare\"].median())\n",
    "    data[\"CabinAfter\"] = data[\"CabinAfter\"].fillna(\"U\")\n",
    "    # Filling missing embarked with C\n",
    "    data[\"Embarked\"] = data[\"Embarked\"].fillna(\"C\")\n",
    "    # Creating family feature\n",
    "    data[\"Family\"] = data[\"SibSp\"] + data[\"Parch\"]\n",
    "    # Alone feature\n",
    "    data[\"Alone\"] = (data[\"Family\"] == 0).astype(int)\n",
    "    # Creating title feature\n",
    "    data[\"Title\"] = data[\"Name\"].str.extract(r'([A-Za-z]*[.])')\n",
    "    data[\"Title\"].replace(to_replace=[\"Dona.\", \"Dr.\", \"Rev.\", \"Col.\", \"Mlle.\", \"Major.\", \"Countess.\", \"Lady.\", \"Don.\", \"Mme.\", \"Sir.\", \"Jonkheer.\", \"Capt.\", \"Ms.\"], value=\"Other.\", inplace=True)\n",
    "\n",
    "    # One hot encode categorical data (class, embarked, title and sex)\n",
    "    data[\"Sex\"] = pd.get_dummies(data[\"Sex\"])\n",
    "    data = pd.concat([data, pd.get_dummies(data[\"Pclass\"], prefix='Class')], axis=1)\n",
    "    data = pd.concat([data, pd.get_dummies(data[\"Embarked\"], prefix='Embarked')], axis=1)\n",
    "    data = pd.concat([data, pd.get_dummies(data[\"Title\"], prefix='Title')], axis=1)\n",
    "#     data = pd.concat([data, pd.get_dummies(data[\"CabinAfter\"], prefix='Cabin')], axis=1)\n",
    "    \n",
    "    data[\"Fare\"] /= (data[\"Family\"] + 1)\n",
    "    \n",
    "    # Dropping useless columns\n",
    "    data.drop(columns=[\n",
    "        'Name',\n",
    "        'SibSp',\n",
    "        'Parch',\n",
    "        'Pclass',\n",
    "        'Ticket',\n",
    "        'Embarked',\n",
    "        'Title',\n",
    "        'CabinAfter',\n",
    "        'Cabin'], inplace=True)\n",
    "\n",
    "    # Normalizing data\n",
    "    if (scales == None):\n",
    "        scales = {}\n",
    "    cols = list(data.columns)\n",
    "    if (\"Survived\" in cols):\n",
    "        cols.remove(\"Survived\")\n",
    "    cols.remove(\"PassengerId\")\n",
    "    for column in cols:\n",
    "        if (not column in scales):\n",
    "            scales[column] = {'mean': data[column].mean(), 'std': data[column].std()}\n",
    "        data[column] -= scales[column]['mean']\n",
    "        data[column] /= scales[column]['std']\n",
    "\n",
    "    return scales, data"
   ]
  },
  {
   "cell_type": "markdown",
   "metadata": {},
   "source": [
    "## Get training features and targets"
   ]
  },
  {
   "cell_type": "code",
   "execution_count": 3,
   "metadata": {
    "scrolled": true
   },
   "outputs": [
    {
     "name": "stdout",
     "output_type": "stream",
     "text": [
      "   PassengerId  Survived       Sex       Age      Fare    Family     Alone  \\\n",
      "0            1         0 -0.737281 -0.565419 -0.454543  0.059127 -1.230954   \n",
      "1            2         1  1.354813  0.663488  0.438748  0.059127 -1.230954   \n",
      "2            3         1  1.354813 -0.258192 -0.334569 -0.560660  0.811467   \n",
      "3            4         1  1.354813  0.433068  0.185083  0.059127 -1.230954   \n",
      "4            5         0 -0.737281  0.433068 -0.331081 -0.560660  0.811467   \n",
      "\n",
      "    Class_1   Class_2   Class_3  Embarked_C  Embarked_Q  Embarked_S  \\\n",
      "0 -0.565368 -0.509865  0.902081   -0.485303    -0.30739    0.618959   \n",
      "1  1.766775 -0.509865 -1.107304    2.058256    -0.30739   -1.613803   \n",
      "2 -0.565368 -0.509865  0.902081   -0.485303    -0.30739    0.618959   \n",
      "3  1.766775 -0.509865 -1.107304   -0.485303    -0.30739    0.618959   \n",
      "4 -0.565368 -0.509865  0.902081   -0.485303    -0.30739    0.618959   \n",
      "\n",
      "   Title_Master.  Title_Miss.  Title_Mr.  Title_Mrs.  Title_Other.  \n",
      "0      -0.216681    -0.506371   0.850054   -0.403735     -0.176677  \n",
      "1      -0.216681    -0.506371  -1.175075    2.474090     -0.176677  \n",
      "2      -0.216681     1.972621  -1.175075   -0.403735     -0.176677  \n",
      "3      -0.216681    -0.506371  -1.175075    2.474090     -0.176677  \n",
      "4      -0.216681    -0.506371   0.850054   -0.403735     -0.176677  \n",
      "(891,) (891, 16)\n"
     ]
    }
   ],
   "source": [
    "train_data = pd.read_csv(\"train.csv\")\n",
    "\n",
    "scales, train_data = preprocess(train_data)\n",
    "print(train_data.head())\n",
    "# Get features and targets\n",
    "train_data = train_data.dropna()\n",
    "targets = train_data[\"Survived\"].values\n",
    "train_data.drop(columns=[\"Survived\", \"PassengerId\"], inplace=True)\n",
    "features = train_data.values\n",
    "print(targets.shape, features.shape)"
   ]
  },
  {
   "cell_type": "markdown",
   "metadata": {},
   "source": [
    "## Get test features and targets"
   ]
  },
  {
   "cell_type": "code",
   "execution_count": 4,
   "metadata": {},
   "outputs": [
    {
     "name": "stderr",
     "output_type": "stream",
     "text": [
      "<ipython-input-4-9aea48ee230c>:6: SettingWithCopyWarning: \n",
      "A value is trying to be set on a copy of a slice from a DataFrame\n",
      "\n",
      "See the caveats in the documentation: https://pandas.pydata.org/pandas-docs/stable/user_guide/indexing.html#returning-a-view-versus-a-copy\n",
      "  answers['name'][i] = re.sub('\"', '', name)\n",
      "<ipython-input-4-9aea48ee230c>:10: SettingWithCopyWarning: \n",
      "A value is trying to be set on a copy of a slice from a DataFrame\n",
      "\n",
      "See the caveats in the documentation: https://pandas.pydata.org/pandas-docs/stable/user_guide/indexing.html#returning-a-view-versus-a-copy\n",
      "  test_data['Name'][i] = re.sub('\"', '', name)\n"
     ]
    },
    {
     "name": "stdout",
     "output_type": "stream",
     "text": [
      "   PassengerId       Sex       Age      Fare  Survived    Family     Alone  \\\n",
      "0          892 -0.737281  0.394665 -0.337242         0 -0.560660  0.811467   \n",
      "1          893  1.354813  1.354749 -0.458030         1  0.059127 -1.230954   \n",
      "2          894 -0.737281  2.506849 -0.285394         0 -0.560660  0.811467   \n",
      "3          895 -0.737281 -0.181385 -0.313992         0 -0.560660  0.811467   \n",
      "4          896  1.354813 -0.565419 -0.441406         1  0.678913 -1.230954   \n",
      "\n",
      "    Class_1   Class_2   Class_3  Embarked_C  Embarked_Q  Embarked_S  \\\n",
      "0 -0.565368 -0.509865  0.902081   -0.485303    3.249548   -1.613803   \n",
      "1 -0.565368 -0.509865  0.902081   -0.485303   -0.307390    0.618959   \n",
      "2 -0.565368  1.959102 -1.107304   -0.485303    3.249548   -1.613803   \n",
      "3 -0.565368 -0.509865  0.902081   -0.485303   -0.307390    0.618959   \n",
      "4 -0.565368 -0.509865  0.902081   -0.485303   -0.307390    0.618959   \n",
      "\n",
      "   Title_Master.  Title_Miss.  Title_Mr.  Title_Mrs.  Title_Other.  \n",
      "0      -0.216681    -0.506371   0.850054   -0.403735     -0.176677  \n",
      "1      -0.216681    -0.506371  -1.175075    2.474090     -0.176677  \n",
      "2      -0.216681    -0.506371   0.850054   -0.403735     -0.176677  \n",
      "3      -0.216681    -0.506371   0.850054   -0.403735     -0.176677  \n",
      "4      -0.216681    -0.506371  -1.175075    2.474090     -0.176677  \n"
     ]
    }
   ],
   "source": [
    "answers = pd.read_csv('./titanic.csv')\n",
    "test_data = pd.read_csv('./test.csv')\n",
    "\n",
    "for i, name in enumerate(answers['name']):\n",
    "    if '\"' in name:\n",
    "        answers['name'][i] = re.sub('\"', '', name)\n",
    "        \n",
    "for i, name in enumerate(test_data['Name']):\n",
    "    if '\"' in name:\n",
    "        test_data['Name'][i] = re.sub('\"', '', name)\n",
    "\n",
    "survived = []\n",
    "for name in test_data['Name']:\n",
    "    survived.append(int(answers.loc[answers['name'] == name]['survived'].values[-1]))\n",
    "\n",
    "test_data[\"Survived\"] = survived\n",
    "_, test_data = preprocess(test_data, scales=scales)\n",
    "print(test_data.head())\n",
    "test_targets = test_data[\"Survived\"].values\n",
    "test_data.drop(columns=[\"Survived\", \"PassengerId\"], inplace=True)\n",
    "test_features = test_data.values"
   ]
  },
  {
   "cell_type": "markdown",
   "metadata": {},
   "source": [
    "## Splitting train, cross-validation and test-set"
   ]
  },
  {
   "cell_type": "code",
   "execution_count": 5,
   "metadata": {
    "scrolled": true
   },
   "outputs": [
    {
     "name": "stdout",
     "output_type": "stream",
     "text": [
      "Train: (891, 16)\n",
      "Cross-validation: (44, 16)\n",
      "Test: (418, 16)\n"
     ]
    }
   ],
   "source": [
    "cv_prop = 5\n",
    "i = int(features.shape[0] * cv_prop / 100)\n",
    "x_train = features\n",
    "y_train = targets\n",
    "x_cv = features[-i:]\n",
    "y_cv = targets[-i:]\n",
    "x_test = test_features\n",
    "y_test = test_targets\n",
    "\n",
    "print(\"Train: {}\".format(x_train.shape))\n",
    "print(\"Cross-validation: {}\".format(x_cv.shape))\n",
    "print(\"Test: {}\".format(x_test.shape))"
   ]
  },
  {
   "cell_type": "markdown",
   "metadata": {},
   "source": [
    "## Keras logistic regression"
   ]
  },
  {
   "cell_type": "code",
   "execution_count": 6,
   "metadata": {
    "scrolled": false
   },
   "outputs": [
    {
     "name": "stdout",
     "output_type": "stream",
     "text": [
      "Model: \"sequential\"\n",
      "_________________________________________________________________\n",
      "Layer (type)                 Output Shape              Param #   \n",
      "=================================================================\n",
      "dense (Dense)                (None, 1)                 17        \n",
      "=================================================================\n",
      "Total params: 17\n",
      "Trainable params: 17\n",
      "Non-trainable params: 0\n",
      "_________________________________________________________________\n",
      "Epoch 1/20\n",
      "446/446 [==============================] - 0s 1ms/step - loss: 0.6813 - binary_accuracy: 0.6083 - val_loss: 0.5818 - val_binary_accuracy: 0.6818\n",
      "Epoch 2/20\n",
      "446/446 [==============================] - 0s 744us/step - loss: 0.5204 - binary_accuracy: 0.7385 - val_loss: 0.4661 - val_binary_accuracy: 0.7500\n",
      "Epoch 3/20\n",
      "446/446 [==============================] - 0s 622us/step - loss: 0.4666 - binary_accuracy: 0.7901 - val_loss: 0.4120 - val_binary_accuracy: 0.8182\n",
      "Epoch 4/20\n",
      "446/446 [==============================] - 0s 586us/step - loss: 0.4440 - binary_accuracy: 0.8092 - val_loss: 0.3779 - val_binary_accuracy: 0.8182\n",
      "Epoch 5/20\n",
      "446/446 [==============================] - 0s 599us/step - loss: 0.4323 - binary_accuracy: 0.8159 - val_loss: 0.3546 - val_binary_accuracy: 0.8636\n",
      "Epoch 6/20\n",
      "446/446 [==============================] - 0s 626us/step - loss: 0.4255 - binary_accuracy: 0.8204 - val_loss: 0.3372 - val_binary_accuracy: 0.8636\n",
      "Epoch 7/20\n",
      "446/446 [==============================] - 0s 621us/step - loss: 0.4211 - binary_accuracy: 0.8227 - val_loss: 0.3247 - val_binary_accuracy: 0.8864\n",
      "Epoch 8/20\n",
      "446/446 [==============================] - 0s 658us/step - loss: 0.4185 - binary_accuracy: 0.8272 - val_loss: 0.3168 - val_binary_accuracy: 0.9091\n",
      "Epoch 9/20\n",
      "446/446 [==============================] - 0s 616us/step - loss: 0.4166 - binary_accuracy: 0.8339 - val_loss: 0.3105 - val_binary_accuracy: 0.9091\n",
      "Epoch 10/20\n",
      "446/446 [==============================] - 0s 611us/step - loss: 0.4152 - binary_accuracy: 0.8339 - val_loss: 0.3049 - val_binary_accuracy: 0.9091\n",
      "Epoch 11/20\n",
      "446/446 [==============================] - 0s 595us/step - loss: 0.4144 - binary_accuracy: 0.8339 - val_loss: 0.3003 - val_binary_accuracy: 0.9091\n",
      "Epoch 12/20\n",
      "446/446 [==============================] - 0s 603us/step - loss: 0.4135 - binary_accuracy: 0.8339 - val_loss: 0.2969 - val_binary_accuracy: 0.9091\n",
      "Epoch 13/20\n",
      "446/446 [==============================] - 0s 631us/step - loss: 0.4131 - binary_accuracy: 0.8316 - val_loss: 0.2942 - val_binary_accuracy: 0.9091\n",
      "Epoch 14/20\n",
      "446/446 [==============================] - 0s 617us/step - loss: 0.4129 - binary_accuracy: 0.8328 - val_loss: 0.2924 - val_binary_accuracy: 0.9091\n",
      "Epoch 15/20\n",
      "446/446 [==============================] - 0s 617us/step - loss: 0.4124 - binary_accuracy: 0.8328 - val_loss: 0.2916 - val_binary_accuracy: 0.9091\n",
      "Epoch 16/20\n",
      "446/446 [==============================] - 0s 622us/step - loss: 0.4123 - binary_accuracy: 0.8328 - val_loss: 0.2906 - val_binary_accuracy: 0.9091\n",
      "Epoch 17/20\n",
      "446/446 [==============================] - 0s 614us/step - loss: 0.4119 - binary_accuracy: 0.8305 - val_loss: 0.2880 - val_binary_accuracy: 0.9091\n",
      "Epoch 18/20\n",
      "446/446 [==============================] - 0s 610us/step - loss: 0.4119 - binary_accuracy: 0.8294 - val_loss: 0.2872 - val_binary_accuracy: 0.9091\n",
      "Epoch 19/20\n",
      "446/446 [==============================] - 0s 587us/step - loss: 0.4116 - binary_accuracy: 0.8339 - val_loss: 0.2847 - val_binary_accuracy: 0.9091\n",
      "Epoch 20/20\n",
      "446/446 [==============================] - 0s 625us/step - loss: 0.4117 - binary_accuracy: 0.8328 - val_loss: 0.2841 - val_binary_accuracy: 0.9091\n",
      "Test accuracy: 77.03%\n"
     ]
    },
    {
     "data": {
      "image/png": "[encoded data removed]",
      "text/plain": [
       "<Figure size 460.8x403.2 with 1 Axes>"
      ]
     },
     "metadata": {},
     "output_type": "display_data"
    }
   ],
   "source": [
    "# Create a model\n",
    "keras_log = tf.keras.models.Sequential([\n",
    "    tf.keras.layers.Dense(1, activation='sigmoid', input_shape=(features.shape[1],)),\n",
    "])\n",
    "keras_log.compile(optimizer='adam', loss='binary_crossentropy', metrics=['binary_accuracy'])\n",
    "keras_log.summary()\n",
    "history = keras_log.fit(x=features, y=targets, batch_size=2, epochs=20, shuffle=True, validation_data=(x_cv, y_cv))\n",
    "\n",
    "y_pred = keras_log.predict(x_test) > 0.5\n",
    "print(\"Test accuracy: {:.2f}%\".format(metrics.accuracy_score(y_pred, y_test) * 100))\n",
    "\n",
    "plt.plot(history.history['binary_accuracy'])\n",
    "plt.plot(history.history['val_binary_accuracy'])\n",
    "plt.show()"
   ]
  },
  {
   "cell_type": "markdown",
   "metadata": {},
   "source": [
    "## Sklearn Random Forest Classifier"
   ]
  },
  {
   "cell_type": "code",
   "execution_count": 7,
   "metadata": {
    "scrolled": false
   },
   "outputs": [
    {
     "name": "stdout",
     "output_type": "stream",
     "text": [
      "Test accuracy: 73.92%\n"
     ]
    },
    {
     "data": {
      "text/plain": [
       "<AxesSubplot:ylabel='feature'>"
      ]
     },
     "execution_count": 7,
     "metadata": {},
     "output_type": "execute_result"
    },
    {
     "data": {
      "image/png": "[encoded data removed]",
      "text/plain": [
       "<Figure size 1800x1800 with 1 Axes>"
      ]
     },
     "metadata": {},
     "output_type": "display_data"
    }
   ],
   "source": [
    "clf = RandomForestClassifier(n_estimators=100)\n",
    "clf = clf.fit(x_train, y_train)\n",
    "y_pred=clf.predict(x_test)\n",
    "print(\"Test accuracy: {:.2f}%\".format(metrics.accuracy_score(y_pred, y_test) * 100))\n",
    "features = pd.DataFrame()\n",
    "features['feature'] = train_data.columns\n",
    "features['importance'] = clf.feature_importances_\n",
    "features.sort_values(by=['importance'], ascending=True, inplace=True)\n",
    "features.set_index('feature', inplace=True)\n",
    "\n",
    "features.plot(kind='barh', figsize=(25, 25))"
   ]
  },
  {
   "cell_type": "markdown",
   "metadata": {},
   "source": [
    "## Sklearn logistic regression"
   ]
  },
  {
   "cell_type": "code",
   "execution_count": 8,
   "metadata": {
    "scrolled": true
   },
   "outputs": [
    {
     "name": "stdout",
     "output_type": "stream",
     "text": [
      "Test accuracy: 77.27%\n"
     ]
    }
   ],
   "source": [
    "sklearn_log = LogisticRegression()\n",
    "sklearn_log.fit(x_train, y_train)\n",
    "y_pred = sklearn_log.predict(x_test)\n",
    "print(\"Test accuracy: {:.2f}%\".format(metrics.accuracy_score(y_pred, y_test) * 100))"
   ]
  },
  {
   "cell_type": "markdown",
   "metadata": {},
   "source": [
    "## Catboost classifier"
   ]
  },
  {
   "cell_type": "code",
   "execution_count": 14,
   "metadata": {},
   "outputs": [
    {
     "name": "stdout",
     "output_type": "stream",
     "text": [
      "Test accuracy: 78.71%\n"
     ]
    }
   ],
   "source": [
    "cboost = catboost.CatBoostClassifier(iterations=10, learning_rate=0.01)\n",
    "cboost.fit(x_train, y_train, verbose=False)\n",
    "y_pred = cboost.predict(x_test)\n",
    "print(\"Test accuracy: {:.2f}%\".format(metrics.accuracy_score(y_pred, y_test) * 100))"
   ]
  },
  {
   "cell_type": "markdown",
   "metadata": {},
   "source": [
    "## XGBClassifier\n"
   ]
  },
  {
   "cell_type": "code",
   "execution_count": 10,
   "metadata": {},
   "outputs": [
    {
     "name": "stdout",
     "output_type": "stream",
     "text": [
      "Test accuracy: 75.36%\n"
     ]
    }
   ],
   "source": [
    "xgbc = XGBClassifier(learning_rate=0.01)\n",
    "xgbc.fit(x_train, y_train)\n",
    "y_pred = xgbc.predict(x_test)\n",
    "print(\"Test accuracy: {:.2f}%\".format(metrics.accuracy_score(y_pred, y_test) * 100))"
   ]
  },
  {
   "cell_type": "markdown",
   "metadata": {},
   "source": [
    "## SkLearn KNN"
   ]
  },
  {
   "cell_type": "code",
   "execution_count": 11,
   "metadata": {
    "scrolled": true
   },
   "outputs": [
    {
     "name": "stdout",
     "output_type": "stream",
     "text": [
      "Test accuracy: 77.51%\n"
     ]
    }
   ],
   "source": [
    "knn = KNeighborsClassifier(n_neighbors=10)\n",
    "knn.fit(x_train, y_train)\n",
    "y_pred = knn.predict(x_test)\n",
    "print(\"Test accuracy: {:.2f}%\".format(metrics.accuracy_score(y_pred, y_test) * 100))"
   ]
  },
  {
   "cell_type": "markdown",
   "metadata": {},
   "source": [
    "## Catboost grid search"
   ]
  },
  {
   "cell_type": "code",
   "execution_count": 13,
   "metadata": {
    "scrolled": true
   },
   "outputs": [
    {
     "name": "stderr",
     "output_type": "stream",
     "text": [
      "/usr/local/lib/python3.8/site-packages/sklearn/model_selection/_validation.py:548: FitFailedWarning: Estimator fit failed. The score on this train-test partition for these parameters will be set to nan. Details: \n",
      "Traceback (most recent call last):\n",
      "  File \"/usr/local/lib/python3.8/site-packages/sklearn/model_selection/_validation.py\", line 531, in _fit_and_score\n",
      "    estimator.fit(X_train, y_train, **fit_params)\n",
      "  File \"/usr/local/lib/python3.8/site-packages/catboost/core.py\", line 4296, in fit\n",
      "    self._fit(X, y, cat_features, text_features, embedding_features, None, sample_weight, None, None, None, None, baseline, use_best_model,\n",
      "  File \"/usr/local/lib/python3.8/site-packages/catboost/core.py\", line 1792, in _fit\n",
      "    train_params = self._prepare_train_params(\n",
      "  File \"/usr/local/lib/python3.8/site-packages/catboost/core.py\", line 1724, in _prepare_train_params\n",
      "    _check_train_params(params)\n",
      "  File \"_catboost.pyx\", line 5532, in _catboost._check_train_params\n",
      "  File \"_catboost.pyx\", line 5551, in _catboost._check_train_params\n",
      "_catboost.CatBoostError: catboost/private/libs/options/json_helper.h:157: Can't parse parameter \"depth\" with value: 4.8\n",
      "\n",
      "  warnings.warn(\"Estimator fit failed. The score on this train-test\"\n",
      "/usr/local/lib/python3.8/site-packages/sklearn/model_selection/_validation.py:548: FitFailedWarning: Estimator fit failed. The score on this train-test partition for these parameters will be set to nan. Details: \n",
      "Traceback (most recent call last):\n",
      "  File \"/usr/local/lib/python3.8/site-packages/sklearn/model_selection/_validation.py\", line 531, in _fit_and_score\n",
      "    estimator.fit(X_train, y_train, **fit_params)\n",
      "  File \"/usr/local/lib/python3.8/site-packages/catboost/core.py\", line 4296, in fit\n",
      "    self._fit(X, y, cat_features, text_features, embedding_features, None, sample_weight, None, None, None, None, baseline, use_best_model,\n",
      "  File \"/usr/local/lib/python3.8/site-packages/catboost/core.py\", line 1792, in _fit\n",
      "    train_params = self._prepare_train_params(\n",
      "  File \"/usr/local/lib/python3.8/site-packages/catboost/core.py\", line 1724, in _prepare_train_params\n",
      "    _check_train_params(params)\n",
      "  File \"_catboost.pyx\", line 5532, in _catboost._check_train_params\n",
      "  File \"_catboost.pyx\", line 5551, in _catboost._check_train_params\n",
      "_catboost.CatBoostError: catboost/private/libs/options/json_helper.h:157: Can't parse parameter \"depth\" with value: 5.2\n",
      "\n",
      "  warnings.warn(\"Estimator fit failed. The score on this train-test\"\n"
     ]
    },
    {
     "name": "stdout",
     "output_type": "stream",
     "text": [
      "{'depth': 5, 'eval_metric': 'Accuracy', 'iterations': 100, 'l2_leaf_reg': 1e-20, 'leaf_estimation_iterations': 7, 'logging_level': 'Silent', 'loss_function': 'Logloss', 'random_seed': 84}\n",
      "0:\tlearn: 0.6716535\ttotal: 1.18ms\tremaining: 116ms\n",
      "1:\tlearn: 0.6526992\ttotal: 2.35ms\tremaining: 115ms\n",
      "2:\tlearn: 0.6343281\ttotal: 3.5ms\tremaining: 113ms\n",
      "3:\tlearn: 0.6183647\ttotal: 5.46ms\tremaining: 131ms\n",
      "4:\tlearn: 0.6014003\ttotal: 7.27ms\tremaining: 138ms\n",
      "5:\tlearn: 0.5883389\ttotal: 8.46ms\tremaining: 133ms\n",
      "6:\tlearn: 0.5749843\ttotal: 9.61ms\tremaining: 128ms\n",
      "7:\tlearn: 0.5617639\ttotal: 10.8ms\tremaining: 124ms\n",
      "8:\tlearn: 0.5504788\ttotal: 11.9ms\tremaining: 121ms\n",
      "9:\tlearn: 0.5403663\ttotal: 13.1ms\tremaining: 118ms\n",
      "10:\tlearn: 0.5283962\ttotal: 14.2ms\tremaining: 115ms\n",
      "11:\tlearn: 0.5209683\ttotal: 15.4ms\tremaining: 113ms\n",
      "12:\tlearn: 0.5119944\ttotal: 16.5ms\tremaining: 111ms\n",
      "13:\tlearn: 0.5042899\ttotal: 17.7ms\tremaining: 109ms\n",
      "14:\tlearn: 0.5005442\ttotal: 18.6ms\tremaining: 105ms\n",
      "15:\tlearn: 0.4928069\ttotal: 20.1ms\tremaining: 105ms\n",
      "16:\tlearn: 0.4854239\ttotal: 21.5ms\tremaining: 105ms\n",
      "17:\tlearn: 0.4794786\ttotal: 22.7ms\tremaining: 103ms\n",
      "18:\tlearn: 0.4746412\ttotal: 23.9ms\tremaining: 102ms\n",
      "19:\tlearn: 0.4683328\ttotal: 25.1ms\tremaining: 100ms\n",
      "20:\tlearn: 0.4641514\ttotal: 26.2ms\tremaining: 98.6ms\n",
      "21:\tlearn: 0.4596315\ttotal: 27.5ms\tremaining: 97.4ms\n",
      "22:\tlearn: 0.4552863\ttotal: 29.3ms\tremaining: 98.1ms\n",
      "23:\tlearn: 0.4494743\ttotal: 30.5ms\tremaining: 96.4ms\n",
      "24:\tlearn: 0.4453293\ttotal: 31.6ms\tremaining: 94.8ms\n",
      "25:\tlearn: 0.4403875\ttotal: 32.8ms\tremaining: 93.2ms\n",
      "26:\tlearn: 0.4365908\ttotal: 34.3ms\tremaining: 92.7ms\n",
      "27:\tlearn: 0.4344809\ttotal: 36ms\tremaining: 92.6ms\n",
      "28:\tlearn: 0.4312096\ttotal: 37.2ms\tremaining: 91.1ms\n",
      "29:\tlearn: 0.4276283\ttotal: 38.4ms\tremaining: 89.7ms\n",
      "30:\tlearn: 0.4233439\ttotal: 39.6ms\tremaining: 88.1ms\n",
      "31:\tlearn: 0.4213606\ttotal: 40.8ms\tremaining: 86.7ms\n",
      "32:\tlearn: 0.4176163\ttotal: 41.9ms\tremaining: 85.1ms\n",
      "33:\tlearn: 0.4146282\ttotal: 43.1ms\tremaining: 83.6ms\n",
      "34:\tlearn: 0.4117964\ttotal: 44.3ms\tremaining: 82.2ms\n",
      "35:\tlearn: 0.4080111\ttotal: 45.4ms\tremaining: 80.8ms\n",
      "36:\tlearn: 0.4062633\ttotal: 46.6ms\tremaining: 79.4ms\n",
      "37:\tlearn: 0.4044618\ttotal: 47.8ms\tremaining: 78ms\n",
      "38:\tlearn: 0.4017426\ttotal: 49.2ms\tremaining: 76.9ms\n",
      "39:\tlearn: 0.3993463\ttotal: 51ms\tremaining: 76.5ms\n",
      "40:\tlearn: 0.3954388\ttotal: 52.2ms\tremaining: 75.1ms\n",
      "41:\tlearn: 0.3937548\ttotal: 53.4ms\tremaining: 73.8ms\n",
      "42:\tlearn: 0.3910659\ttotal: 54.6ms\tremaining: 72.4ms\n",
      "43:\tlearn: 0.3904176\ttotal: 55.6ms\tremaining: 70.8ms\n",
      "44:\tlearn: 0.3887013\ttotal: 56.8ms\tremaining: 69.4ms\n",
      "45:\tlearn: 0.3876781\ttotal: 57.9ms\tremaining: 68ms\n",
      "46:\tlearn: 0.3855503\ttotal: 59.1ms\tremaining: 66.6ms\n",
      "47:\tlearn: 0.3845264\ttotal: 60.3ms\tremaining: 65.3ms\n",
      "48:\tlearn: 0.3819237\ttotal: 61.4ms\tremaining: 63.9ms\n",
      "49:\tlearn: 0.3796381\ttotal: 62.6ms\tremaining: 62.6ms\n",
      "50:\tlearn: 0.3771903\ttotal: 64ms\tremaining: 61.5ms\n",
      "51:\tlearn: 0.3763183\ttotal: 65.6ms\tremaining: 60.6ms\n",
      "52:\tlearn: 0.3742428\ttotal: 66.9ms\tremaining: 59.3ms\n",
      "53:\tlearn: 0.3728985\ttotal: 68.1ms\tremaining: 58ms\n",
      "54:\tlearn: 0.3712404\ttotal: 69.3ms\tremaining: 56.7ms\n",
      "55:\tlearn: 0.3695649\ttotal: 70.6ms\tremaining: 55.5ms\n",
      "56:\tlearn: 0.3693514\ttotal: 71.5ms\tremaining: 54ms\n",
      "57:\tlearn: 0.3676539\ttotal: 72.7ms\tremaining: 52.7ms\n",
      "58:\tlearn: 0.3670688\ttotal: 73.9ms\tremaining: 51.4ms\n",
      "59:\tlearn: 0.3665959\ttotal: 75.1ms\tremaining: 50.1ms\n",
      "60:\tlearn: 0.3656166\ttotal: 76.3ms\tremaining: 48.8ms\n",
      "61:\tlearn: 0.3647650\ttotal: 77.5ms\tremaining: 47.5ms\n",
      "62:\tlearn: 0.3633383\ttotal: 79ms\tremaining: 46.4ms\n",
      "63:\tlearn: 0.3623247\ttotal: 80.5ms\tremaining: 45.3ms\n",
      "64:\tlearn: 0.3604824\ttotal: 81.8ms\tremaining: 44ms\n",
      "65:\tlearn: 0.3593928\ttotal: 83ms\tremaining: 42.7ms\n",
      "66:\tlearn: 0.3585641\ttotal: 84.2ms\tremaining: 41.5ms\n",
      "67:\tlearn: 0.3580096\ttotal: 85.5ms\tremaining: 40.2ms\n",
      "68:\tlearn: 0.3569005\ttotal: 86.6ms\tremaining: 38.9ms\n",
      "69:\tlearn: 0.3560265\ttotal: 87.8ms\tremaining: 37.6ms\n",
      "70:\tlearn: 0.3558353\ttotal: 89.1ms\tremaining: 36.4ms\n",
      "71:\tlearn: 0.3552450\ttotal: 90.3ms\tremaining: 35.1ms\n",
      "72:\tlearn: 0.3537114\ttotal: 91.5ms\tremaining: 33.8ms\n",
      "73:\tlearn: 0.3533786\ttotal: 92.7ms\tremaining: 32.6ms\n",
      "74:\tlearn: 0.3527818\ttotal: 94.3ms\tremaining: 31.4ms\n",
      "75:\tlearn: 0.3515544\ttotal: 95.8ms\tremaining: 30.3ms\n",
      "76:\tlearn: 0.3506642\ttotal: 97ms\tremaining: 29ms\n",
      "77:\tlearn: 0.3495753\ttotal: 98.2ms\tremaining: 27.7ms\n",
      "78:\tlearn: 0.3487653\ttotal: 99.5ms\tremaining: 26.4ms\n",
      "79:\tlearn: 0.3483691\ttotal: 101ms\tremaining: 25.2ms\n",
      "80:\tlearn: 0.3473697\ttotal: 102ms\tremaining: 23.9ms\n",
      "81:\tlearn: 0.3471668\ttotal: 103ms\tremaining: 22.7ms\n",
      "82:\tlearn: 0.3464112\ttotal: 104ms\tremaining: 21.4ms\n",
      "83:\tlearn: 0.3453423\ttotal: 106ms\tremaining: 20.1ms\n",
      "84:\tlearn: 0.3446928\ttotal: 107ms\tremaining: 18.9ms\n",
      "85:\tlearn: 0.3439296\ttotal: 108ms\tremaining: 17.6ms\n",
      "86:\tlearn: 0.3436064\ttotal: 110ms\tremaining: 16.5ms\n",
      "87:\tlearn: 0.3428219\ttotal: 112ms\tremaining: 15.3ms\n",
      "88:\tlearn: 0.3421469\ttotal: 113ms\tremaining: 14ms\n",
      "89:\tlearn: 0.3412019\ttotal: 115ms\tremaining: 12.7ms\n",
      "90:\tlearn: 0.3408026\ttotal: 116ms\tremaining: 11.4ms\n",
      "91:\tlearn: 0.3402800\ttotal: 117ms\tremaining: 10.2ms\n",
      "92:\tlearn: 0.3395517\ttotal: 118ms\tremaining: 8.91ms\n",
      "93:\tlearn: 0.3395152\ttotal: 119ms\tremaining: 7.61ms\n",
      "94:\tlearn: 0.3386748\ttotal: 120ms\tremaining: 6.34ms\n",
      "95:\tlearn: 0.3383161\ttotal: 122ms\tremaining: 5.07ms\n",
      "96:\tlearn: 0.3371711\ttotal: 123ms\tremaining: 3.8ms\n",
      "97:\tlearn: 0.3364324\ttotal: 125ms\tremaining: 2.54ms\n",
      "98:\tlearn: 0.3360516\ttotal: 126ms\tremaining: 1.27ms\n",
      "99:\tlearn: 0.3359464\ttotal: 128ms\tremaining: 0us\n",
      "Test accuracy: 77.99%\n"
     ]
    }
   ],
   "source": [
    "cboost2 = catboost.CatBoostClassifier()\n",
    "params = {'iterations': [100],\n",
    "          'depth': [4.8, 5, 5.2],\n",
    "          'loss_function': ['Logloss', 'CrossEntropy'],\n",
    "          'l2_leaf_reg': np.logspace(-20, -19, 3),\n",
    "          'leaf_estimation_iterations': [6, 7, 8],\n",
    "          'eval_metric': ['Accuracy'],\n",
    "          'logging_level': ['Silent'],\n",
    "          'random_seed': [0, 42, 84, 85]\n",
    "         }\n",
    "grid = GridSearchCV(estimator=cboost2, param_grid=params, cv=5)\n",
    "grid.fit(x_train, y_train)\n",
    "best_param = grid.best_params_\n",
    "print(best_param)\n",
    "\n",
    "cboost3 = catboost.CatBoostClassifier(\n",
    "    depth=best_param[\"depth\"],\n",
    "    iterations=best_param[\"iterations\"],\n",
    "    l2_leaf_reg=best_param[\"l2_leaf_reg\"],\n",
    "    leaf_estimation_iterations=best_param[\"leaf_estimation_iterations\"],\n",
    "    random_seed=best_param[\"random_seed\"]\n",
    ")\n",
    "cboost3.fit(x_train, y_train)\n",
    "y_pred = cboost3.predict(x_test)\n",
    "print(\"Test accuracy: {:.2f}%\".format(metrics.accuracy_score(y_pred, y_test) * 100))"
   ]
  },
  {
   "cell_type": "markdown",
   "metadata": {},
   "source": [
    "## Predicting the test set"
   ]
  },
  {
   "cell_type": "code",
   "execution_count": 15,
   "metadata": {},
   "outputs": [],
   "source": [
    "MODEL = cboost\n",
    "\n",
    "test_data = pd.read_csv(\"test.csv\")\n",
    "_, test_data = preprocess(test_data, scales=scales)\n",
    "\n",
    "test_without_id = test_data.drop(columns=[\"PassengerId\"])\n",
    "prediction = MODEL.predict(test_without_id.values) >= 0.5\n",
    "prediction = prediction.astype(int)\n",
    "\n",
    "test_data[\"Survived\"] = prediction\n",
    "cols = list(test_data.columns)\n",
    "cols.remove(\"PassengerId\")\n",
    "cols.remove(\"Survived\")\n",
    "test_data.drop(columns=cols, inplace=True)"
   ]
  },
  {
   "cell_type": "code",
   "execution_count": 16,
   "metadata": {},
   "outputs": [],
   "source": [
    "test_data.to_csv('result.csv', index=False)"
   ]
  },
  {
   "cell_type": "code",
   "execution_count": null,
   "metadata": {},
   "outputs": [],
   "source": []
  }
 ],
 "metadata": {
  "kernelspec": {
   "display_name": "Python 3",
   "language": "python",
   "name": "python3"
  }
 },
 "nbformat": 4,
 "nbformat_minor": 4
}
